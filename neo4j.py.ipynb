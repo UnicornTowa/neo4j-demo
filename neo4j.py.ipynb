{
 "cells": [
  {
   "cell_type": "code",
   "execution_count": 1,
   "outputs": [],
   "source": [
    "from neo4j import GraphDatabase"
   ],
   "metadata": {
    "collapsed": false,
    "ExecuteTime": {
     "end_time": "2024-04-10T20:28:14.095322600Z",
     "start_time": "2024-04-10T20:28:13.269254800Z"
    }
   },
   "id": "606652471218aa28"
  },
  {
   "cell_type": "code",
   "execution_count": 2,
   "outputs": [],
   "source": [
    "class Neo4jConnection:\n",
    "    def __init__(self, uri, user, password):\n",
    "        self.driver = GraphDatabase.driver(uri, auth=(user, password))\n",
    "\n",
    "    def close(self):\n",
    "        if self.driver is not None:\n",
    "            self.driver.close()\n",
    "\n",
    "# Метод, который передает запрос в БД\n",
    "    def query(self, query, db=None):\n",
    "        assert self.driver is not None, \"Driver not initialized!\"\n",
    "        session = None\n",
    "        response = None\n",
    "        try:\n",
    "            session = self.driver.session(database=db) if db is not None else self.driver.session()\n",
    "            response = list(session.run(query))\n",
    "        except Exception as e:\n",
    "            print(\"Query failed:\", e)\n",
    "        finally:\n",
    "            if session is not None:\n",
    "                session.close()\n",
    "        return response"
   ],
   "metadata": {
    "collapsed": false,
    "ExecuteTime": {
     "end_time": "2024-04-10T20:28:14.611345500Z",
     "start_time": "2024-04-10T20:28:14.604031700Z"
    }
   },
   "id": "6950eddacd8a53a"
  },
  {
   "cell_type": "code",
   "execution_count": 3,
   "outputs": [],
   "source": [
    "conn = Neo4jConnection(uri=\"bolt://localhost:7687\", user=\"admin\", password=\"00000000\")"
   ],
   "metadata": {
    "collapsed": false,
    "ExecuteTime": {
     "end_time": "2024-04-10T20:28:16.607992500Z",
     "start_time": "2024-04-10T20:28:16.597346400Z"
    }
   },
   "id": "5f8068abbd4db4b9"
  },
  {
   "cell_type": "code",
   "execution_count": 10,
   "outputs": [
    {
     "data": {
      "text/plain": "[]"
     },
     "execution_count": 10,
     "metadata": {},
     "output_type": "execute_result"
    }
   ],
   "source": [
    "conn.query(\"CREATE OR REPLACE DATABASE social\")"
   ],
   "metadata": {
    "collapsed": false,
    "ExecuteTime": {
     "end_time": "2024-04-10T19:12:01.236605800Z",
     "start_time": "2024-04-10T19:11:57.784198100Z"
    }
   },
   "id": "671408adc46e636b"
  },
  {
   "cell_type": "code",
   "execution_count": 9,
   "outputs": [
    {
     "data": {
      "text/plain": "[]"
     },
     "execution_count": 9,
     "metadata": {},
     "output_type": "execute_result"
    }
   ],
   "source": [
    "query_string = '''\n",
    "LOAD CSV WITH HEADERS FROM\n",
    "'https://raw.githubusercontent.com/UnicornTowa/neo4j-demo/main/persons.csv'\n",
    "AS line FIELDTERMINATOR ','\n",
    "MERGE (person:Person {PersonID: line.PersonID})\n",
    "  ON CREATE SET person.PersonName = line.PersonName, \n",
    "                person.PersonResidence = line.PersonResidence, \n",
    "                person.PersonSex = line.PersonSex, \n",
    "                person.PersonAge = toInteger(line.PersonAge);\n",
    "'''\n",
    "conn.query(query_string, db='social')"
   ],
   "metadata": {
    "collapsed": false,
    "ExecuteTime": {
     "end_time": "2024-04-10T20:30:44.704907800Z",
     "start_time": "2024-04-10T20:30:24.202519800Z"
    }
   },
   "id": "4f68ed06d50ae010"
  },
  {
   "cell_type": "code",
   "execution_count": 11,
   "outputs": [
    {
     "data": {
      "text/plain": "[]"
     },
     "execution_count": 11,
     "metadata": {},
     "output_type": "execute_result"
    }
   ],
   "source": [
    "query_string = '''\n",
    "LOAD CSV WITH HEADERS FROM\n",
    "'https://raw.githubusercontent.com/UnicornTowa/neo4j-demo/main/friends.csv'\n",
    "AS line FIELDTERMINATOR ','\n",
    "MATCH (p1:Person {PersonID:line.Person1})\n",
    "MATCH (p2:Person {PersonID:line.Person2})\n",
    "MERGE (p1)-[:KNOWS {Type:line.type}]-(p2)\n",
    "'''\n",
    "conn.query(query_string, db='social')"
   ],
   "metadata": {
    "collapsed": false,
    "ExecuteTime": {
     "end_time": "2024-04-10T22:22:46.496087800Z",
     "start_time": "2024-04-10T22:18:51.565056200Z"
    }
   },
   "id": "15272c2d3c8c9fbd"
  },
  {
   "cell_type": "code",
   "execution_count": 12,
   "outputs": [
    {
     "data": {
      "text/plain": "[]"
     },
     "execution_count": 12,
     "metadata": {},
     "output_type": "execute_result"
    }
   ],
   "source": [
    "query_string = '''\n",
    "LOAD CSV WITH HEADERS FROM\n",
    "'https://raw.githubusercontent.com/UnicornTowa/neo4j-demo/main/relationships.csv'\n",
    "AS line FIELDTERMINATOR ','\n",
    "MATCH (p1:Person {PersonID:line.Person1})\n",
    "MATCH (p2:Person {PersonID:line.Person2})\n",
    "MERGE (p1)-[:LOVES]-(p2)\n",
    "'''\n",
    "conn.query(query_string, db='social')"
   ],
   "metadata": {
    "collapsed": false,
    "ExecuteTime": {
     "end_time": "2024-04-10T22:23:12.858289800Z",
     "start_time": "2024-04-10T22:23:09.006617300Z"
    }
   },
   "id": "55813d502ab5b464"
  },
  {
   "cell_type": "code",
   "execution_count": null,
   "outputs": [],
   "source": [],
   "metadata": {
    "collapsed": false
   },
   "id": "a6b2cfe2b59568ac"
  }
 ],
 "metadata": {
  "kernelspec": {
   "display_name": "Python 3",
   "language": "python",
   "name": "python3"
  },
  "language_info": {
   "codemirror_mode": {
    "name": "ipython",
    "version": 2
   },
   "file_extension": ".py",
   "mimetype": "text/x-python",
   "name": "python",
   "nbconvert_exporter": "python",
   "pygments_lexer": "ipython2",
   "version": "2.7.6"
  }
 },
 "nbformat": 4,
 "nbformat_minor": 5
}
